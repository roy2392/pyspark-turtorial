{
 "cells": [
  {
   "cell_type": "markdown",
   "id": "ebc6ac5f-3e99-42ba-8de0-cb1aa4f920a6",
   "metadata": {},
   "source": [
    "![spark logo](https://datascientest.com/en/files/2024/02/pyspark.webp)"
   ]
  },
  {
   "cell_type": "markdown",
   "id": "12eb3612-1dd6-4424-9c78-ef79926fb55a",
   "metadata": {},
   "source": [
    "# <b><center>PySpark Tutorial</center></b>"
   ]
  },
  {
   "cell_type": "markdown",
   "id": "b9ad88ff-8eca-48e5-bd0f-1b5eb48528e5",
   "metadata": {},
   "source": [
    "### what we will cover?\n",
    "* Pyspark Dataframe\n",
    "* Reading Datasets\n",
    "* Check Schemas Datatypes\n",
    "* Selecting & Indexing Columns\n",
    "* Pyspark Describe Alternative\n",
    "* Adding Columns\n",
    "* Dropping Columns"
   ]
  },
  {
   "cell_type": "markdown",
   "id": "3f610af933c48261",
   "metadata": {},
   "source": [
    "## Part 1: Pysprak Dataframes  - Reading & Schema Datatype "
   ]
  },
  {
   "cell_type": "markdown",
   "id": "2490c25b2d4589ea",
   "metadata": {},
   "source": [
    "Install Notebook Dependencies"
   ]
  },
  {
   "cell_type": "code",
   "execution_count": 1,
   "id": "initial_id",
   "metadata": {
    "ExecuteTime": {
     "end_time": "2024-10-25T09:19:50.072630Z",
     "start_time": "2024-10-25T09:19:49.627672Z"
    }
   },
   "outputs": [
    {
     "name": "stdout",
     "output_type": "stream",
     "text": [
      "Requirement already satisfied: pyspark in /opt/anaconda3/envs/pyspark/lib/python3.11/site-packages (3.5.3)\n",
      "Requirement already satisfied: python-dotenv in /opt/anaconda3/envs/pyspark/lib/python3.11/site-packages (1.0.1)\n",
      "Requirement already satisfied: pandas in /opt/anaconda3/envs/pyspark/lib/python3.11/site-packages (2.2.3)\n",
      "Requirement already satisfied: py4j==0.10.9.7 in /opt/anaconda3/envs/pyspark/lib/python3.11/site-packages (from pyspark) (0.10.9.7)\n",
      "Requirement already satisfied: numpy>=1.23.2 in /opt/anaconda3/envs/pyspark/lib/python3.11/site-packages (from pandas) (2.1.2)\n",
      "Requirement already satisfied: python-dateutil>=2.8.2 in /opt/anaconda3/envs/pyspark/lib/python3.11/site-packages (from pandas) (2.9.0.post0)\n",
      "Requirement already satisfied: pytz>=2020.1 in /opt/anaconda3/envs/pyspark/lib/python3.11/site-packages (from pandas) (2024.1)\n",
      "Requirement already satisfied: tzdata>=2022.7 in /opt/anaconda3/envs/pyspark/lib/python3.11/site-packages (from pandas) (2024.2)\n",
      "Requirement already satisfied: six>=1.5 in /opt/anaconda3/envs/pyspark/lib/python3.11/site-packages (from python-dateutil>=2.8.2->pandas) (1.16.0)\n"
     ]
    }
   ],
   "source": [
    "!pip install pyspark python-dotenv pandas"
   ]
  },
  {
   "cell_type": "markdown",
   "id": "904ac7c5-a741-4f31-a6ca-2896aff89b83",
   "metadata": {},
   "source": [
    "Import libaries"
   ]
  },
  {
   "cell_type": "code",
   "execution_count": 2,
   "id": "b0d741f9d3a3c29e",
   "metadata": {
    "ExecuteTime": {
     "end_time": "2024-10-25T09:19:51.956705Z",
     "start_time": "2024-10-25T09:19:51.948226Z"
    }
   },
   "outputs": [
    {
     "data": {
      "text/plain": [
       "True"
      ]
     },
     "execution_count": 2,
     "metadata": {},
     "output_type": "execute_result"
    }
   ],
   "source": [
    "import pyspark\n",
    "import dotenv\n",
    "import pandas as pd\n",
    "\n",
    "dotenv.load_dotenv()\n"
   ]
  },
  {
   "cell_type": "markdown",
   "id": "62e32b08-d0c4-4b46-8b64-254ea472b78a",
   "metadata": {},
   "source": [
    "First, let's import the csv as a traditional Pandas Dataframe"
   ]
  },
  {
   "cell_type": "code",
   "execution_count": 3,
   "id": "4bd414a3b5716371",
   "metadata": {
    "ExecuteTime": {
     "end_time": "2024-10-25T09:26:04.973201Z",
     "start_time": "2024-10-25T09:26:04.959905Z"
    }
   },
   "outputs": [
    {
     "data": {
      "text/html": [
       "<div>\n",
       "<style scoped>\n",
       "    .dataframe tbody tr th:only-of-type {\n",
       "        vertical-align: middle;\n",
       "    }\n",
       "\n",
       "    .dataframe tbody tr th {\n",
       "        vertical-align: top;\n",
       "    }\n",
       "\n",
       "    .dataframe thead th {\n",
       "        text-align: right;\n",
       "    }\n",
       "</style>\n",
       "<table border=\"1\" class=\"dataframe\">\n",
       "  <thead>\n",
       "    <tr style=\"text-align: right;\">\n",
       "      <th></th>\n",
       "      <th>Age</th>\n",
       "      <th>Gender</th>\n",
       "      <th>Weight (kg)</th>\n",
       "      <th>Height (m)</th>\n",
       "      <th>Max_BPM</th>\n",
       "      <th>Avg_BPM</th>\n",
       "      <th>Resting_BPM</th>\n",
       "      <th>Session_Duration (hours)</th>\n",
       "      <th>Calories_Burned</th>\n",
       "      <th>Workout_Type</th>\n",
       "      <th>Fat_Percentage</th>\n",
       "      <th>Water_Intake (liters)</th>\n",
       "      <th>Workout_Frequency (days/week)</th>\n",
       "      <th>Experience_Level</th>\n",
       "      <th>BMI</th>\n",
       "    </tr>\n",
       "  </thead>\n",
       "  <tbody>\n",
       "    <tr>\n",
       "      <th>0</th>\n",
       "      <td>56</td>\n",
       "      <td>Male</td>\n",
       "      <td>88.3</td>\n",
       "      <td>1.71</td>\n",
       "      <td>180</td>\n",
       "      <td>157</td>\n",
       "      <td>60</td>\n",
       "      <td>1.69</td>\n",
       "      <td>1313.0</td>\n",
       "      <td>Yoga</td>\n",
       "      <td>12.6</td>\n",
       "      <td>3.5</td>\n",
       "      <td>4</td>\n",
       "      <td>3</td>\n",
       "      <td>30.20</td>\n",
       "    </tr>\n",
       "    <tr>\n",
       "      <th>1</th>\n",
       "      <td>46</td>\n",
       "      <td>Female</td>\n",
       "      <td>74.9</td>\n",
       "      <td>1.53</td>\n",
       "      <td>179</td>\n",
       "      <td>151</td>\n",
       "      <td>66</td>\n",
       "      <td>1.30</td>\n",
       "      <td>883.0</td>\n",
       "      <td>HIIT</td>\n",
       "      <td>33.9</td>\n",
       "      <td>2.1</td>\n",
       "      <td>4</td>\n",
       "      <td>2</td>\n",
       "      <td>32.00</td>\n",
       "    </tr>\n",
       "    <tr>\n",
       "      <th>2</th>\n",
       "      <td>32</td>\n",
       "      <td>Female</td>\n",
       "      <td>68.1</td>\n",
       "      <td>1.66</td>\n",
       "      <td>167</td>\n",
       "      <td>122</td>\n",
       "      <td>54</td>\n",
       "      <td>1.11</td>\n",
       "      <td>677.0</td>\n",
       "      <td>Cardio</td>\n",
       "      <td>33.4</td>\n",
       "      <td>2.3</td>\n",
       "      <td>4</td>\n",
       "      <td>2</td>\n",
       "      <td>24.71</td>\n",
       "    </tr>\n",
       "    <tr>\n",
       "      <th>3</th>\n",
       "      <td>25</td>\n",
       "      <td>Male</td>\n",
       "      <td>53.2</td>\n",
       "      <td>1.70</td>\n",
       "      <td>190</td>\n",
       "      <td>164</td>\n",
       "      <td>56</td>\n",
       "      <td>0.59</td>\n",
       "      <td>532.0</td>\n",
       "      <td>Strength</td>\n",
       "      <td>28.8</td>\n",
       "      <td>2.1</td>\n",
       "      <td>3</td>\n",
       "      <td>1</td>\n",
       "      <td>18.41</td>\n",
       "    </tr>\n",
       "    <tr>\n",
       "      <th>4</th>\n",
       "      <td>38</td>\n",
       "      <td>Male</td>\n",
       "      <td>46.1</td>\n",
       "      <td>1.79</td>\n",
       "      <td>188</td>\n",
       "      <td>158</td>\n",
       "      <td>68</td>\n",
       "      <td>0.64</td>\n",
       "      <td>556.0</td>\n",
       "      <td>Strength</td>\n",
       "      <td>29.2</td>\n",
       "      <td>2.8</td>\n",
       "      <td>3</td>\n",
       "      <td>1</td>\n",
       "      <td>14.39</td>\n",
       "    </tr>\n",
       "  </tbody>\n",
       "</table>\n",
       "</div>"
      ],
      "text/plain": [
       "   Age  Gender  Weight (kg)  Height (m)  Max_BPM  Avg_BPM  Resting_BPM  \\\n",
       "0   56    Male         88.3        1.71      180      157           60   \n",
       "1   46  Female         74.9        1.53      179      151           66   \n",
       "2   32  Female         68.1        1.66      167      122           54   \n",
       "3   25    Male         53.2        1.70      190      164           56   \n",
       "4   38    Male         46.1        1.79      188      158           68   \n",
       "\n",
       "   Session_Duration (hours)  Calories_Burned Workout_Type  Fat_Percentage  \\\n",
       "0                      1.69           1313.0         Yoga            12.6   \n",
       "1                      1.30            883.0         HIIT            33.9   \n",
       "2                      1.11            677.0       Cardio            33.4   \n",
       "3                      0.59            532.0     Strength            28.8   \n",
       "4                      0.64            556.0     Strength            29.2   \n",
       "\n",
       "   Water_Intake (liters)  Workout_Frequency (days/week)  Experience_Level  \\\n",
       "0                    3.5                              4                 3   \n",
       "1                    2.1                              4                 2   \n",
       "2                    2.3                              4                 2   \n",
       "3                    2.1                              3                 1   \n",
       "4                    2.8                              3                 1   \n",
       "\n",
       "     BMI  \n",
       "0  30.20  \n",
       "1  32.00  \n",
       "2  24.71  \n",
       "3  18.41  \n",
       "4  14.39  "
      ]
     },
     "execution_count": 3,
     "metadata": {},
     "output_type": "execute_result"
    }
   ],
   "source": [
    "df = pd.read_csv('data/gym_members_exercise_tracking.csv')\n",
    "df.head()\n"
   ]
  },
  {
   "cell_type": "code",
   "execution_count": 4,
   "id": "61fe4ef20bde56c0",
   "metadata": {
    "ExecuteTime": {
     "end_time": "2024-10-25T09:21:13.880656Z",
     "start_time": "2024-10-25T09:21:12.771738Z"
    }
   },
   "outputs": [],
   "source": [
    "from pyspark.sql import SparkSession"
   ]
  },
  {
   "cell_type": "code",
   "execution_count": 5,
   "id": "e66fcdbdbad10337",
   "metadata": {},
   "outputs": [
    {
     "name": "stderr",
     "output_type": "stream",
     "text": [
      "24/10/26 10:16:15 WARN Utils: Your hostname, Roys-MacBook-Pro.local resolves to a loopback address: 127.0.0.1; using 10.0.0.11 instead (on interface en0)\n",
      "24/10/26 10:16:15 WARN Utils: Set SPARK_LOCAL_IP if you need to bind to another address\n",
      "Setting default log level to \"WARN\".\n",
      "To adjust logging level use sc.setLogLevel(newLevel). For SparkR, use setLogLevel(newLevel).\n",
      "24/10/26 10:16:15 WARN NativeCodeLoader: Unable to load native-hadoop library for your platform... using builtin-java classes where applicable\n",
      "24/10/26 10:16:15 WARN Utils: Service 'SparkUI' could not bind on port 4040. Attempting port 4041.\n"
     ]
    }
   ],
   "source": [
    "# spark = SparkSession.builder.appName('Practice').getOrCreate()\n",
    "spark = SparkSession.builder \\\n",
    "    .config('spark.sql.debug.maxToStringFields', 2000) \\\n",
    "    .getOrCreate()"
   ]
  },
  {
   "cell_type": "code",
   "execution_count": 6,
   "id": "414b94eb-0622-42d6-9927-f140d22023e9",
   "metadata": {},
   "outputs": [
    {
     "data": {
      "text/html": [
       "\n",
       "            <div>\n",
       "                <p><b>SparkSession - in-memory</b></p>\n",
       "                \n",
       "        <div>\n",
       "            <p><b>SparkContext</b></p>\n",
       "\n",
       "            <p><a href=\"http://10.0.0.11:4041\">Spark UI</a></p>\n",
       "\n",
       "            <dl>\n",
       "              <dt>Version</dt>\n",
       "                <dd><code>v3.5.3</code></dd>\n",
       "              <dt>Master</dt>\n",
       "                <dd><code>local[*]</code></dd>\n",
       "              <dt>AppName</dt>\n",
       "                <dd><code>pyspark-shell</code></dd>\n",
       "            </dl>\n",
       "        </div>\n",
       "        \n",
       "            </div>\n",
       "        "
      ],
      "text/plain": [
       "<pyspark.sql.session.SparkSession at 0x10eb48f10>"
      ]
     },
     "execution_count": 6,
     "metadata": {},
     "output_type": "execute_result"
    }
   ],
   "source": [
    "spark"
   ]
  },
  {
   "cell_type": "code",
   "execution_count": 7,
   "id": "6dcdc734-c7b0-474b-9847-e62696b41095",
   "metadata": {},
   "outputs": [],
   "source": [
    "# read the dataset\n",
    "df_pyspark = spark.read.csv('data/gym_members_exercise_tracking.csv')"
   ]
  },
  {
   "cell_type": "code",
   "execution_count": 8,
   "id": "6ae54a19-6611-4b90-a4ac-820a64072570",
   "metadata": {},
   "outputs": [],
   "source": [
    "# set the first rows as headers\n",
    "df_pyspark = spark.read.option('header', 'true').csv(\n",
    "    'data/gym_members_exercise_tracking.csv')"
   ]
  },
  {
   "cell_type": "code",
   "execution_count": 9,
   "id": "d96c5e08-1172-410c-a2c8-5f77676c0122",
   "metadata": {},
   "outputs": [
    {
     "data": {
      "text/plain": [
       "pyspark.sql.dataframe.DataFrame"
      ]
     },
     "execution_count": 9,
     "metadata": {},
     "output_type": "execute_result"
    }
   ],
   "source": [
    "# dataframe dtype\n",
    "type(df_pyspark)"
   ]
  },
  {
   "cell_type": "code",
   "execution_count": 10,
   "id": "5e0f0fe7-f0a5-4fd0-8391-5e79ffdb6e45",
   "metadata": {},
   "outputs": [
    {
     "name": "stdout",
     "output_type": "stream",
     "text": [
      "root\n",
      " |-- Age: string (nullable = true)\n",
      " |-- Gender: string (nullable = true)\n",
      " |-- Weight (kg): string (nullable = true)\n",
      " |-- Height (m): string (nullable = true)\n",
      " |-- Max_BPM: string (nullable = true)\n",
      " |-- Avg_BPM: string (nullable = true)\n",
      " |-- Resting_BPM: string (nullable = true)\n",
      " |-- Session_Duration (hours): string (nullable = true)\n",
      " |-- Calories_Burned: string (nullable = true)\n",
      " |-- Workout_Type: string (nullable = true)\n",
      " |-- Fat_Percentage: string (nullable = true)\n",
      " |-- Water_Intake (liters): string (nullable = true)\n",
      " |-- Workout_Frequency (days/week): string (nullable = true)\n",
      " |-- Experience_Level: string (nullable = true)\n",
      " |-- BMI: string (nullable = true)\n",
      "\n"
     ]
    }
   ],
   "source": [
    "# schema datatypes\n",
    "df_pyspark.printSchema()"
   ]
  },
  {
   "cell_type": "markdown",
   "id": "53c4dfc4-8a54-45a4-bce2-b3f367f40199",
   "metadata": {},
   "source": [
    "### Why did all columns been set to string?\n",
    "that's because if not explicity set, Pyspark set all values to string values. we'll have to aet inferSchema Parameter to True"
   ]
  },
  {
   "cell_type": "code",
   "execution_count": 11,
   "id": "70a0e85d-6cb6-4021-ae71-5f4ddadf1c1e",
   "metadata": {},
   "outputs": [
    {
     "name": "stdout",
     "output_type": "stream",
     "text": [
      "root\n",
      " |-- Age: integer (nullable = true)\n",
      " |-- Gender: string (nullable = true)\n",
      " |-- Weight (kg): double (nullable = true)\n",
      " |-- Height (m): double (nullable = true)\n",
      " |-- Max_BPM: integer (nullable = true)\n",
      " |-- Avg_BPM: integer (nullable = true)\n",
      " |-- Resting_BPM: integer (nullable = true)\n",
      " |-- Session_Duration (hours): double (nullable = true)\n",
      " |-- Calories_Burned: double (nullable = true)\n",
      " |-- Workout_Type: string (nullable = true)\n",
      " |-- Fat_Percentage: double (nullable = true)\n",
      " |-- Water_Intake (liters): double (nullable = true)\n",
      " |-- Workout_Frequency (days/week): integer (nullable = true)\n",
      " |-- Experience_Level: integer (nullable = true)\n",
      " |-- BMI: double (nullable = true)\n",
      "\n"
     ]
    }
   ],
   "source": [
    "df_pyspark = spark.read.option('header', 'true').csv(\n",
    "    'data/gym_members_exercise_tracking.csv', inferSchema=True)\n",
    "\n",
    "df_pyspark.printSchema()"
   ]
  },
  {
   "cell_type": "markdown",
   "id": "c8791e38-f105-41d8-af0c-57e7a5281695",
   "metadata": {},
   "source": [
    "## Part 2: Selecting & Indexing Columns"
   ]
  },
  {
   "cell_type": "markdown",
   "id": "0de624af-1c87-4ad8-a3f1-eccfb65e3b8c",
   "metadata": {},
   "source": [
    "select a single column"
   ]
  },
  {
   "cell_type": "code",
   "execution_count": 12,
   "id": "b8a89bee-c804-4a3c-8739-5a7bd54dbf83",
   "metadata": {},
   "outputs": [
    {
     "name": "stdout",
     "output_type": "stream",
     "text": [
      "+------+\n",
      "|Gender|\n",
      "+------+\n",
      "|  Male|\n",
      "|Female|\n",
      "|Female|\n",
      "+------+\n",
      "only showing top 3 rows\n",
      "\n"
     ]
    }
   ],
   "source": [
    "df_pyspark.select('Gender').show(3)"
   ]
  },
  {
   "cell_type": "markdown",
   "id": "0340fb4d-8cfb-4ada-b64a-92543526bba6",
   "metadata": {},
   "source": [
    "select multiply columns"
   ]
  },
  {
   "cell_type": "code",
   "execution_count": 13,
   "id": "ab115343-2f20-40c5-99ca-5a2d4114554b",
   "metadata": {},
   "outputs": [
    {
     "name": "stdout",
     "output_type": "stream",
     "text": [
      "+------+---+\n",
      "|Gender|Age|\n",
      "+------+---+\n",
      "|  Male| 56|\n",
      "|Female| 46|\n",
      "|Female| 32|\n",
      "+------+---+\n",
      "only showing top 3 rows\n",
      "\n"
     ]
    }
   ],
   "source": [
    "df_pyspark.select(['Gender','Age']).show(3)"
   ]
  },
  {
   "cell_type": "markdown",
   "id": "4476d7ed-80b7-4424-97d0-0aca51bd5cb8",
   "metadata": {},
   "source": [
    "## Part 3: Describe Dataframe"
   ]
  },
  {
   "cell_type": "code",
   "execution_count": 19,
   "id": "8c10afe1-f8fd-4a21-b46a-7bb6465c0105",
   "metadata": {},
   "outputs": [
    {
     "name": "stdout",
     "output_type": "stream",
     "text": [
      "-RECORD 0--------------------------------------------\n",
      " summary                       | count               \n",
      " Age                           | 973                 \n",
      " Gender                        | 973                 \n",
      " Weight (kg)                   | 973                 \n",
      " Height (m)                    | 973                 \n",
      " Max_BPM                       | 973                 \n",
      " Avg_BPM                       | 973                 \n",
      " Resting_BPM                   | 973                 \n",
      " Session_Duration (hours)      | 973                 \n",
      " Calories_Burned               | 973                 \n",
      " Workout_Type                  | 973                 \n",
      " Fat_Percentage                | 973                 \n",
      " Water_Intake (liters)         | 973                 \n",
      " Workout_Frequency (days/week) | 973                 \n",
      " Experience_Level              | 973                 \n",
      " BMI                           | 973                 \n",
      "-RECORD 1--------------------------------------------\n",
      " summary                       | mean                \n",
      " Age                           | 38.68345323741007   \n",
      " Gender                        | NULL                \n",
      " Weight (kg)                   | 73.85467625899278   \n",
      " Height (m)                    | 1.7225796505652604  \n",
      " Max_BPM                       | 179.88386433710176  \n",
      " Avg_BPM                       | 143.76670092497432  \n",
      " Resting_BPM                   | 62.223021582733814  \n",
      " Session_Duration (hours)      | 1.256423432682425   \n",
      " Calories_Burned               | 905.4224049331963   \n",
      " Workout_Type                  | NULL                \n",
      " Fat_Percentage                | 24.976772867420344  \n",
      " Water_Intake (liters)         | 2.6266187050359706  \n",
      " Workout_Frequency (days/week) | 3.3216855087358685  \n",
      " Experience_Level              | 1.8098663926002057  \n",
      " BMI                           | 24.912127440904435  \n",
      "-RECORD 2--------------------------------------------\n",
      " summary                       | stddev              \n",
      " Age                           | 12.18092786698711   \n",
      " Gender                        | NULL                \n",
      " Weight (kg)                   | 21.207500498407164  \n",
      " Height (m)                    | 0.12771989460721692 \n",
      " Max_BPM                       | 11.52568596237931   \n",
      " Avg_BPM                       | 14.345101439108817  \n",
      " Resting_BPM                   | 7.327059908996752   \n",
      " Session_Duration (hours)      | 0.3430334803899634  \n",
      " Calories_Burned               | 272.64151645225854  \n",
      " Workout_Type                  | NULL                \n",
      " Fat_Percentage                | 6.259418834269056   \n",
      " Water_Intake (liters)         | 0.6001719365613238  \n",
      " Workout_Frequency (days/week) | 0.913046969934323   \n",
      " Experience_Level              | 0.7396927419551095  \n",
      " BMI                           | 6.660879393631095   \n",
      "-RECORD 3--------------------------------------------\n",
      " summary                       | min                 \n",
      " Age                           | 18                  \n",
      " Gender                        | Female              \n",
      " Weight (kg)                   | 40.0                \n",
      " Height (m)                    | 1.5                 \n",
      " Max_BPM                       | 160                 \n",
      " Avg_BPM                       | 120                 \n",
      " Resting_BPM                   | 50                  \n",
      " Session_Duration (hours)      | 0.5                 \n",
      " Calories_Burned               | 303.0               \n",
      " Workout_Type                  | Cardio              \n",
      " Fat_Percentage                | 10.0                \n",
      " Water_Intake (liters)         | 1.5                 \n",
      " Workout_Frequency (days/week) | 2                   \n",
      " Experience_Level              | 1                   \n",
      " BMI                           | 12.32               \n",
      "-RECORD 4--------------------------------------------\n",
      " summary                       | max                 \n",
      " Age                           | 59                  \n",
      " Gender                        | Male                \n",
      " Weight (kg)                   | 129.9               \n",
      " Height (m)                    | 2.0                 \n",
      " Max_BPM                       | 199                 \n",
      " Avg_BPM                       | 169                 \n",
      " Resting_BPM                   | 74                  \n",
      " Session_Duration (hours)      | 2.0                 \n",
      " Calories_Burned               | 1783.0              \n",
      " Workout_Type                  | Yoga                \n",
      " Fat_Percentage                | 35.0                \n",
      " Water_Intake (liters)         | 3.7                 \n",
      " Workout_Frequency (days/week) | 5                   \n",
      " Experience_Level              | 3                   \n",
      " BMI                           | 49.84               \n",
      "\n"
     ]
    }
   ],
   "source": [
    "df_pyspark.describe().show(vertical=True)"
   ]
  },
  {
   "cell_type": "markdown",
   "id": "7273ddf8-2c45-430a-9f58-db041a956110",
   "metadata": {},
   "source": [
    "## Part 4: Adding & Removing Columns\n"
   ]
  },
  {
   "cell_type": "code",
   "execution_count": 18,
   "id": "8a021662-aa95-4ec6-b8eb-78d4c17facb6",
   "metadata": {},
   "outputs": [
    {
     "name": "stdout",
     "output_type": "stream",
     "text": [
      "-RECORD 0---------------------------------\n",
      " Age                           | 56       \n",
      " Gender                        | Male     \n",
      " Weight (kg)                   | 88.3     \n",
      " Height (m)                    | 1.71     \n",
      " Max_BPM                       | 180      \n",
      " Avg_BPM                       | 157      \n",
      " Resting_BPM                   | 60       \n",
      " Session_Duration (hours)      | 1.69     \n",
      " Calories_Burned               | 1313.0   \n",
      " Workout_Type                  | Yoga     \n",
      " Fat_Percentage                | 12.6     \n",
      " Water_Intake (liters)         | 3.5      \n",
      " Workout_Frequency (days/week) | 4        \n",
      " Experience_Level              | 3        \n",
      " BMI                           | 30.2     \n",
      " Is_Male                       | true     \n",
      "-RECORD 1---------------------------------\n",
      " Age                           | 46       \n",
      " Gender                        | Female   \n",
      " Weight (kg)                   | 74.9     \n",
      " Height (m)                    | 1.53     \n",
      " Max_BPM                       | 179      \n",
      " Avg_BPM                       | 151      \n",
      " Resting_BPM                   | 66       \n",
      " Session_Duration (hours)      | 1.3      \n",
      " Calories_Burned               | 883.0    \n",
      " Workout_Type                  | HIIT     \n",
      " Fat_Percentage                | 33.9     \n",
      " Water_Intake (liters)         | 2.1      \n",
      " Workout_Frequency (days/week) | 4        \n",
      " Experience_Level              | 2        \n",
      " BMI                           | 32.0     \n",
      " Is_Male                       | false    \n",
      "-RECORD 2---------------------------------\n",
      " Age                           | 32       \n",
      " Gender                        | Female   \n",
      " Weight (kg)                   | 68.1     \n",
      " Height (m)                    | 1.66     \n",
      " Max_BPM                       | 167      \n",
      " Avg_BPM                       | 122      \n",
      " Resting_BPM                   | 54       \n",
      " Session_Duration (hours)      | 1.11     \n",
      " Calories_Burned               | 677.0    \n",
      " Workout_Type                  | Cardio   \n",
      " Fat_Percentage                | 33.4     \n",
      " Water_Intake (liters)         | 2.3      \n",
      " Workout_Frequency (days/week) | 4        \n",
      " Experience_Level              | 2        \n",
      " BMI                           | 24.71    \n",
      " Is_Male                       | false    \n",
      "-RECORD 3---------------------------------\n",
      " Age                           | 25       \n",
      " Gender                        | Male     \n",
      " Weight (kg)                   | 53.2     \n",
      " Height (m)                    | 1.7      \n",
      " Max_BPM                       | 190      \n",
      " Avg_BPM                       | 164      \n",
      " Resting_BPM                   | 56       \n",
      " Session_Duration (hours)      | 0.59     \n",
      " Calories_Burned               | 532.0    \n",
      " Workout_Type                  | Strength \n",
      " Fat_Percentage                | 28.8     \n",
      " Water_Intake (liters)         | 2.1      \n",
      " Workout_Frequency (days/week) | 3        \n",
      " Experience_Level              | 1        \n",
      " BMI                           | 18.41    \n",
      " Is_Male                       | true     \n",
      "-RECORD 4---------------------------------\n",
      " Age                           | 38       \n",
      " Gender                        | Male     \n",
      " Weight (kg)                   | 46.1     \n",
      " Height (m)                    | 1.79     \n",
      " Max_BPM                       | 188      \n",
      " Avg_BPM                       | 158      \n",
      " Resting_BPM                   | 68       \n",
      " Session_Duration (hours)      | 0.64     \n",
      " Calories_Burned               | 556.0    \n",
      " Workout_Type                  | Strength \n",
      " Fat_Percentage                | 29.2     \n",
      " Water_Intake (liters)         | 2.8      \n",
      " Workout_Frequency (days/week) | 3        \n",
      " Experience_Level              | 1        \n",
      " BMI                           | 14.39    \n",
      " Is_Male                       | true     \n",
      "-RECORD 5---------------------------------\n",
      " Age                           | 56       \n",
      " Gender                        | Female   \n",
      " Weight (kg)                   | 58.0     \n",
      " Height (m)                    | 1.68     \n",
      " Max_BPM                       | 168      \n",
      " Avg_BPM                       | 156      \n",
      " Resting_BPM                   | 74       \n",
      " Session_Duration (hours)      | 1.59     \n",
      " Calories_Burned               | 1116.0   \n",
      " Workout_Type                  | HIIT     \n",
      " Fat_Percentage                | 15.5     \n",
      " Water_Intake (liters)         | 2.7      \n",
      " Workout_Frequency (days/week) | 5        \n",
      " Experience_Level              | 3        \n",
      " BMI                           | 20.55    \n",
      " Is_Male                       | false    \n",
      "-RECORD 6---------------------------------\n",
      " Age                           | 36       \n",
      " Gender                        | Male     \n",
      " Weight (kg)                   | 70.3     \n",
      " Height (m)                    | 1.72     \n",
      " Max_BPM                       | 174      \n",
      " Avg_BPM                       | 169      \n",
      " Resting_BPM                   | 73       \n",
      " Session_Duration (hours)      | 1.49     \n",
      " Calories_Burned               | 1385.0   \n",
      " Workout_Type                  | Cardio   \n",
      " Fat_Percentage                | 21.3     \n",
      " Water_Intake (liters)         | 2.3      \n",
      " Workout_Frequency (days/week) | 3        \n",
      " Experience_Level              | 2        \n",
      " BMI                           | 23.76    \n",
      " Is_Male                       | true     \n",
      "-RECORD 7---------------------------------\n",
      " Age                           | 40       \n",
      " Gender                        | Female   \n",
      " Weight (kg)                   | 69.7     \n",
      " Height (m)                    | 1.51     \n",
      " Max_BPM                       | 189      \n",
      " Avg_BPM                       | 141      \n",
      " Resting_BPM                   | 64       \n",
      " Session_Duration (hours)      | 1.27     \n",
      " Calories_Burned               | 895.0    \n",
      " Workout_Type                  | Cardio   \n",
      " Fat_Percentage                | 30.6     \n",
      " Water_Intake (liters)         | 1.9      \n",
      " Workout_Frequency (days/week) | 3        \n",
      " Experience_Level              | 2        \n",
      " BMI                           | 30.57    \n",
      " Is_Male                       | false    \n",
      "-RECORD 8---------------------------------\n",
      " Age                           | 28       \n",
      " Gender                        | Male     \n",
      " Weight (kg)                   | 121.7    \n",
      " Height (m)                    | 1.94     \n",
      " Max_BPM                       | 185      \n",
      " Avg_BPM                       | 127      \n",
      " Resting_BPM                   | 52       \n",
      " Session_Duration (hours)      | 1.03     \n",
      " Calories_Burned               | 719.0    \n",
      " Workout_Type                  | Strength \n",
      " Fat_Percentage                | 28.9     \n",
      " Water_Intake (liters)         | 2.6      \n",
      " Workout_Frequency (days/week) | 4        \n",
      " Experience_Level              | 2        \n",
      " BMI                           | 32.34    \n",
      " Is_Male                       | true     \n",
      "-RECORD 9---------------------------------\n",
      " Age                           | 28       \n",
      " Gender                        | Male     \n",
      " Weight (kg)                   | 101.8    \n",
      " Height (m)                    | 1.84     \n",
      " Max_BPM                       | 169      \n",
      " Avg_BPM                       | 136      \n",
      " Resting_BPM                   | 64       \n",
      " Session_Duration (hours)      | 1.08     \n",
      " Calories_Burned               | 808.0    \n",
      " Workout_Type                  | Cardio   \n",
      " Fat_Percentage                | 29.7     \n",
      " Water_Intake (liters)         | 2.7      \n",
      " Workout_Frequency (days/week) | 3        \n",
      " Experience_Level              | 1        \n",
      " BMI                           | 30.07    \n",
      " Is_Male                       | true     \n",
      "-RECORD 10--------------------------------\n",
      " Age                           | 41       \n",
      " Gender                        | Male     \n",
      " Weight (kg)                   | 120.8    \n",
      " Height (m)                    | 1.67     \n",
      " Max_BPM                       | 188      \n",
      " Avg_BPM                       | 146      \n",
      " Resting_BPM                   | 54       \n",
      " Session_Duration (hours)      | 0.82     \n",
      " Calories_Burned               | 593.0    \n",
      " Workout_Type                  | HIIT     \n",
      " Fat_Percentage                | 20.5     \n",
      " Water_Intake (liters)         | 3.0      \n",
      " Workout_Frequency (days/week) | 2        \n",
      " Experience_Level              | 1        \n",
      " BMI                           | 43.31    \n",
      " Is_Male                       | true     \n",
      "-RECORD 11--------------------------------\n",
      " Age                           | 53       \n",
      " Gender                        | Male     \n",
      " Weight (kg)                   | 51.7     \n",
      " Height (m)                    | 1.7      \n",
      " Max_BPM                       | 175      \n",
      " Avg_BPM                       | 152      \n",
      " Resting_BPM                   | 72       \n",
      " Session_Duration (hours)      | 1.15     \n",
      " Calories_Burned               | 865.0    \n",
      " Workout_Type                  | HIIT     \n",
      " Fat_Percentage                | 23.6     \n",
      " Water_Intake (liters)         | 3.5      \n",
      " Workout_Frequency (days/week) | 3        \n",
      " Experience_Level              | 2        \n",
      " BMI                           | 17.89    \n",
      " Is_Male                       | true     \n",
      "-RECORD 12--------------------------------\n",
      " Age                           | 57       \n",
      " Gender                        | Male     \n",
      " Weight (kg)                   | 112.5    \n",
      " Height (m)                    | 1.61     \n",
      " Max_BPM                       | 195      \n",
      " Avg_BPM                       | 165      \n",
      " Resting_BPM                   | 61       \n",
      " Session_Duration (hours)      | 1.24     \n",
      " Calories_Burned               | 1013.0   \n",
      " Workout_Type                  | Cardio   \n",
      " Fat_Percentage                | 22.1     \n",
      " Water_Intake (liters)         | 2.7      \n",
      " Workout_Frequency (days/week) | 3        \n",
      " Experience_Level              | 2        \n",
      " BMI                           | 43.4     \n",
      " Is_Male                       | true     \n",
      "-RECORD 13--------------------------------\n",
      " Age                           | 41       \n",
      " Gender                        | Male     \n",
      " Weight (kg)                   | 94.5     \n",
      " Height (m)                    | 2.0      \n",
      " Max_BPM                       | 179      \n",
      " Avg_BPM                       | 136      \n",
      " Resting_BPM                   | 69       \n",
      " Session_Duration (hours)      | 1.18     \n",
      " Calories_Burned               | 794.0    \n",
      " Workout_Type                  | HIIT     \n",
      " Fat_Percentage                | 27.6     \n",
      " Water_Intake (liters)         | 3.7      \n",
      " Workout_Frequency (days/week) | 3        \n",
      " Experience_Level              | 1        \n",
      " BMI                           | 23.62    \n",
      " Is_Male                       | true     \n",
      "-RECORD 14--------------------------------\n",
      " Age                           | 20       \n",
      " Gender                        | Male     \n",
      " Weight (kg)                   | 117.7    \n",
      " Height (m)                    | 1.81     \n",
      " Max_BPM                       | 196      \n",
      " Avg_BPM                       | 161      \n",
      " Resting_BPM                   | 54       \n",
      " Session_Duration (hours)      | 1.35     \n",
      " Calories_Burned               | 1195.0   \n",
      " Workout_Type                  | Yoga     \n",
      " Fat_Percentage                | 26.4     \n",
      " Water_Intake (liters)         | 3.3      \n",
      " Workout_Frequency (days/week) | 3        \n",
      " Experience_Level              | 2        \n",
      " BMI                           | 35.93    \n",
      " Is_Male                       | true     \n",
      "-RECORD 15--------------------------------\n",
      " Age                           | 39       \n",
      " Gender                        | Female   \n",
      " Weight (kg)                   | 42.5     \n",
      " Height (m)                    | 1.75     \n",
      " Max_BPM                       | 181      \n",
      " Avg_BPM                       | 131      \n",
      " Resting_BPM                   | 52       \n",
      " Session_Duration (hours)      | 1.13     \n",
      " Calories_Burned               | 740.0    \n",
      " Workout_Type                  | Strength \n",
      " Fat_Percentage                | 26.2     \n",
      " Water_Intake (liters)         | 2.1      \n",
      " Workout_Frequency (days/week) | 2        \n",
      " Experience_Level              | 1        \n",
      " BMI                           | 13.88    \n",
      " Is_Male                       | false    \n",
      "-RECORD 16--------------------------------\n",
      " Age                           | 19       \n",
      " Gender                        | Female   \n",
      " Weight (kg)                   | 64.0     \n",
      " Height (m)                    | 1.53     \n",
      " Max_BPM                       | 166      \n",
      " Avg_BPM                       | 167      \n",
      " Resting_BPM                   | 58       \n",
      " Session_Duration (hours)      | 1.33     \n",
      " Calories_Burned               | 1111.0   \n",
      " Workout_Type                  | HIIT     \n",
      " Fat_Percentage                | 29.8     \n",
      " Water_Intake (liters)         | 2.3      \n",
      " Workout_Frequency (days/week) | 3        \n",
      " Experience_Level              | 2        \n",
      " BMI                           | 27.34    \n",
      " Is_Male                       | false    \n",
      "-RECORD 17--------------------------------\n",
      " Age                           | 41       \n",
      " Gender                        | Female   \n",
      " Weight (kg)                   | 43.8     \n",
      " Height (m)                    | 1.77     \n",
      " Max_BPM                       | 182      \n",
      " Avg_BPM                       | 165      \n",
      " Resting_BPM                   | 58       \n",
      " Session_Duration (hours)      | 1.19     \n",
      " Calories_Burned               | 884.0    \n",
      " Workout_Type                  | Cardio   \n",
      " Fat_Percentage                | 31.9     \n",
      " Water_Intake (liters)         | 1.6      \n",
      " Workout_Frequency (days/week) | 3        \n",
      " Experience_Level              | 1        \n",
      " BMI                           | 13.98    \n",
      " Is_Male                       | false    \n",
      "-RECORD 18--------------------------------\n",
      " Age                           | 47       \n",
      " Gender                        | Female   \n",
      " Weight (kg)                   | 66.8     \n",
      " Height (m)                    | 1.75     \n",
      " Max_BPM                       | 199      \n",
      " Avg_BPM                       | 146      \n",
      " Resting_BPM                   | 56       \n",
      " Session_Duration (hours)      | 1.13     \n",
      " Calories_Burned               | 742.0    \n",
      " Workout_Type                  | Strength \n",
      " Fat_Percentage                | 32.8     \n",
      " Water_Intake (liters)         | 2.5      \n",
      " Workout_Frequency (days/week) | 3        \n",
      " Experience_Level              | 2        \n",
      " BMI                           | 21.81    \n",
      " Is_Male                       | false    \n",
      "-RECORD 19--------------------------------\n",
      " Age                           | 55       \n",
      " Gender                        | Female   \n",
      " Weight (kg)                   | 75.2     \n",
      " Height (m)                    | 1.67     \n",
      " Max_BPM                       | 188      \n",
      " Avg_BPM                       | 167      \n",
      " Resting_BPM                   | 51       \n",
      " Session_Duration (hours)      | 1.37     \n",
      " Calories_Burned               | 1030.0   \n",
      " Workout_Type                  | HIIT     \n",
      " Fat_Percentage                | 25.2     \n",
      " Water_Intake (liters)         | 2.2      \n",
      " Workout_Frequency (days/week) | 2        \n",
      " Experience_Level              | 1        \n",
      " BMI                           | 26.96    \n",
      " Is_Male                       | false    \n",
      "only showing top 20 rows\n",
      "\n"
     ]
    }
   ],
   "source": [
    "## adding a binary column for is gender is a male \n",
    "df_pyspark.withColumn('Is_Male',df_pyspark['Gender']=='Male').show(vertical=True)"
   ]
  },
  {
   "cell_type": "code",
   "execution_count": null,
   "id": "92c62547-de3c-4c25-904b-43f15662b68f",
   "metadata": {},
   "outputs": [],
   "source": []
  }
 ],
 "metadata": {
  "kernelspec": {
   "display_name": "Python 3 (ipykernel)",
   "language": "python",
   "name": "python3"
  },
  "language_info": {
   "codemirror_mode": {
    "name": "ipython",
    "version": 3
   },
   "file_extension": ".py",
   "mimetype": "text/x-python",
   "name": "python",
   "nbconvert_exporter": "python",
   "pygments_lexer": "ipython3",
   "version": "3.11.10"
  }
 },
 "nbformat": 4,
 "nbformat_minor": 5
}
