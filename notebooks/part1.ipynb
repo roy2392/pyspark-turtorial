{
 "cells": [
  {
   "cell_type": "markdown",
   "id": "ebc6ac5f-3e99-42ba-8de0-cb1aa4f920a6",
   "metadata": {},
   "source": [
    "![spark logo](https://datascientest.com/en/files/2021/02/illu_pyspark_blog-84.png)"
   ]
  },
  {
   "cell_type": "markdown",
   "id": "12eb3612-1dd6-4424-9c78-ef79926fb55a",
   "metadata": {},
   "source": [
    "# <b><center>PySpark Tutorial - Part 1: Pyspark Dataframes</center></b>"
   ]
  },
  {
   "cell_type": "markdown",
   "id": "2510fb71-4cb8-4c82-ae3f-e2f142f30098",
   "metadata": {},
   "source": [
    "*PySpark Tutorial: PySpark is a powerful open-source framework built on Apache Spark, designed to simplify and accelerate large-scale data processing and analytics tasks. It offers a high-level API for Python programming language, enabling seamless integration with existing Python ecosystems.*"
   ]
  },
  {
   "cell_type": "markdown",
   "id": "418b198b-7426-45f1-a5fe-267362736048",
   "metadata": {},
   "source": [
    "*The materials used to create this notebook are as followed:*\n",
    "* [freeCodeCamp - Pyspark Turtorial](https://www.youtube.com/watch?v=_C8kWso4ne4)\n",
    "* [PySpark 3.5 Tutorial For Beginners with Examples](https://sparkbyexamples.com/pyspark-tutorial/)"
   ]
  },
  {
   "cell_type": "markdown",
   "id": "e10bc9d7-7700-446e-9c5b-e1dff5ba9dde",
   "metadata": {},
   "source": [
    "## PySpark Architecture"
   ]
  },
  {
   "cell_type": "markdown",
   "id": "b4a76a7b-5b3c-4081-820e-86aff02baa8a",
   "metadata": {},
   "source": [
    "*PySpark architecture consists of a driver program that coordinates tasks and interacts with a cluster manager to allocate resources. The driver communicates with worker nodes, where tasks are executed within an executor’s JVM. SparkContext manages the execution environment, while the DataFrame API enables high-level abstraction for data manipulation. SparkSession provides a unified entry point for Spark functionality. Underneath, the cluster manager oversees resource allocation and task scheduling across nodes, facilitating parallel computation for processing large-scale data efficiently.*"
   ]
  },
  {
   "cell_type": "markdown",
   "id": "08280e32-ad17-4c11-84ed-37229eb6a3be",
   "metadata": {},
   "source": [
    "![spark architecture](https://i0.wp.com/sparkbyexamples.com/wp-content/uploads/2020/02/spark-cluster-overview.png?w=596&ssl=1)"
   ]
  },
  {
   "cell_type": "markdown",
   "id": "b9ad88ff-8eca-48e5-bd0f-1b5eb48528e5",
   "metadata": {},
   "source": [
    "### what we will cover?\n",
    "* Pyspark Dataframe\n",
    "* Reading Datasets\n",
    "* Check Schemas Datatypes\n",
    "* Selecting & Indexing Columns\n",
    "* Pyspark Describe Alternative\n",
    "* Adding Columns\n",
    "* Dropping Columns\n",
    "* Renaming Columns\n",
    "* Dropping Rows\n",
    "* Various Parameters In Dropping Functionalities\n",
    "* Handling and Refill Missing Values\n",
    "  "
   ]
  },
  {
   "cell_type": "markdown",
   "id": "3f610af933c48261",
   "metadata": {},
   "source": [
    "## Part 1: Pysprak Dataframes  - Reading & Schema Datatype "
   ]
  },
  {
   "cell_type": "markdown",
   "id": "2490c25b2d4589ea",
   "metadata": {},
   "source": [
    "Install Notebook Dependencies"
   ]
  },
  {
   "cell_type": "code",
   "execution_count": 1,
   "id": "initial_id",
   "metadata": {
    "ExecuteTime": {
     "end_time": "2024-10-25T09:19:50.072630Z",
     "start_time": "2024-10-25T09:19:49.627672Z"
    }
   },
   "outputs": [
    {
     "name": "stdout",
     "output_type": "stream",
     "text": [
      "Requirement already satisfied: pyspark in /opt/anaconda3/envs/pyspark/lib/python3.11/site-packages (3.5.3)\n",
      "Requirement already satisfied: python-dotenv in /opt/anaconda3/envs/pyspark/lib/python3.11/site-packages (1.0.1)\n",
      "Requirement already satisfied: pandas in /opt/anaconda3/envs/pyspark/lib/python3.11/site-packages (2.2.3)\n",
      "Requirement already satisfied: py4j==0.10.9.7 in /opt/anaconda3/envs/pyspark/lib/python3.11/site-packages (from pyspark) (0.10.9.7)\n",
      "Requirement already satisfied: numpy>=1.23.2 in /opt/anaconda3/envs/pyspark/lib/python3.11/site-packages (from pandas) (2.1.2)\n",
      "Requirement already satisfied: python-dateutil>=2.8.2 in /opt/anaconda3/envs/pyspark/lib/python3.11/site-packages (from pandas) (2.9.0.post0)\n",
      "Requirement already satisfied: pytz>=2020.1 in /opt/anaconda3/envs/pyspark/lib/python3.11/site-packages (from pandas) (2024.1)\n",
      "Requirement already satisfied: tzdata>=2022.7 in /opt/anaconda3/envs/pyspark/lib/python3.11/site-packages (from pandas) (2024.2)\n",
      "Requirement already satisfied: six>=1.5 in /opt/anaconda3/envs/pyspark/lib/python3.11/site-packages (from python-dateutil>=2.8.2->pandas) (1.16.0)\n"
     ]
    }
   ],
   "source": [
    "!pip install pyspark python-dotenv pandas"
   ]
  },
  {
   "cell_type": "markdown",
   "id": "904ac7c5-a741-4f31-a6ca-2896aff89b83",
   "metadata": {},
   "source": [
    "## Import libaries"
   ]
  },
  {
   "cell_type": "code",
   "execution_count": 2,
   "id": "b0d741f9d3a3c29e",
   "metadata": {
    "ExecuteTime": {
     "end_time": "2024-10-25T09:19:51.956705Z",
     "start_time": "2024-10-25T09:19:51.948226Z"
    }
   },
   "outputs": [
    {
     "data": {
      "text/plain": [
       "True"
      ]
     },
     "execution_count": 2,
     "metadata": {},
     "output_type": "execute_result"
    }
   ],
   "source": [
    "import pyspark\n",
    "from pyspark.sql import SparkSession\n",
    "\n",
    "import dotenv\n",
    "\n",
    "dotenv.load_dotenv()\n"
   ]
  },
  {
   "cell_type": "markdown",
   "id": "62e32b08-d0c4-4b46-8b64-254ea472b78a",
   "metadata": {},
   "source": [
    "First, let's import the csv as a traditional Pandas Dataframe"
   ]
  },
  {
   "cell_type": "code",
   "execution_count": 3,
   "id": "e66fcdbdbad10337",
   "metadata": {},
   "outputs": [
    {
     "name": "stderr",
     "output_type": "stream",
     "text": [
      "24/10/26 10:55:04 WARN Utils: Your hostname, Roys-MacBook-Pro.local resolves to a loopback address: 127.0.0.1; using 10.0.0.11 instead (on interface en0)\n",
      "24/10/26 10:55:04 WARN Utils: Set SPARK_LOCAL_IP if you need to bind to another address\n",
      "Setting default log level to \"WARN\".\n",
      "To adjust logging level use sc.setLogLevel(newLevel). For SparkR, use setLogLevel(newLevel).\n",
      "24/10/26 10:55:05 WARN NativeCodeLoader: Unable to load native-hadoop library for your platform... using builtin-java classes where applicable\n",
      "24/10/26 10:55:05 WARN Utils: Service 'SparkUI' could not bind on port 4040. Attempting port 4041.\n"
     ]
    }
   ],
   "source": [
    "# spark = SparkSession.builder.appName('Practice').getOrCreate()\n",
    "spark = SparkSession.builder \\\n",
    "    .config('spark.sql.debug.maxToStringFields', 2000) \\\n",
    "    .getOrCreate()"
   ]
  },
  {
   "cell_type": "code",
   "execution_count": 4,
   "id": "414b94eb-0622-42d6-9927-f140d22023e9",
   "metadata": {},
   "outputs": [
    {
     "data": {
      "text/html": [
       "\n",
       "            <div>\n",
       "                <p><b>SparkSession - in-memory</b></p>\n",
       "                \n",
       "        <div>\n",
       "            <p><b>SparkContext</b></p>\n",
       "\n",
       "            <p><a href=\"http://10.0.0.11:4041\">Spark UI</a></p>\n",
       "\n",
       "            <dl>\n",
       "              <dt>Version</dt>\n",
       "                <dd><code>v3.5.3</code></dd>\n",
       "              <dt>Master</dt>\n",
       "                <dd><code>local[*]</code></dd>\n",
       "              <dt>AppName</dt>\n",
       "                <dd><code>pyspark-shell</code></dd>\n",
       "            </dl>\n",
       "        </div>\n",
       "        \n",
       "            </div>\n",
       "        "
      ],
      "text/plain": [
       "<pyspark.sql.session.SparkSession at 0x105b6b010>"
      ]
     },
     "execution_count": 4,
     "metadata": {},
     "output_type": "execute_result"
    }
   ],
   "source": [
    "spark"
   ]
  },
  {
   "cell_type": "code",
   "execution_count": 5,
   "id": "6dcdc734-c7b0-474b-9847-e62696b41095",
   "metadata": {},
   "outputs": [],
   "source": [
    "# read the dataset\n",
    "df_pyspark = spark.read.csv('data/gym_members_exercise_tracking.csv')\n",
    "df_pyspark = df_pyspark.limit(3)"
   ]
  },
  {
   "cell_type": "code",
   "execution_count": 6,
   "id": "6ae54a19-6611-4b90-a4ac-820a64072570",
   "metadata": {},
   "outputs": [],
   "source": [
    "# set the first rows as headers\n",
    "df_pyspark = spark.read.option('header', 'true').csv(\n",
    "    'data/gym_members_exercise_tracking.csv')"
   ]
  },
  {
   "cell_type": "code",
   "execution_count": 7,
   "id": "d96c5e08-1172-410c-a2c8-5f77676c0122",
   "metadata": {},
   "outputs": [
    {
     "data": {
      "text/plain": [
       "pyspark.sql.dataframe.DataFrame"
      ]
     },
     "execution_count": 7,
     "metadata": {},
     "output_type": "execute_result"
    }
   ],
   "source": [
    "# dataframe dtype\n",
    "type(df_pyspark)"
   ]
  },
  {
   "cell_type": "code",
   "execution_count": 8,
   "id": "5e0f0fe7-f0a5-4fd0-8391-5e79ffdb6e45",
   "metadata": {},
   "outputs": [
    {
     "name": "stdout",
     "output_type": "stream",
     "text": [
      "root\n",
      " |-- Age: string (nullable = true)\n",
      " |-- Gender: string (nullable = true)\n",
      " |-- Weight (kg): string (nullable = true)\n",
      " |-- Height (m): string (nullable = true)\n",
      " |-- Max_BPM: string (nullable = true)\n",
      " |-- Avg_BPM: string (nullable = true)\n",
      " |-- Resting_BPM: string (nullable = true)\n",
      " |-- Session_Duration (hours): string (nullable = true)\n",
      " |-- Calories_Burned: string (nullable = true)\n",
      " |-- Workout_Type: string (nullable = true)\n",
      " |-- Fat_Percentage: string (nullable = true)\n",
      " |-- Water_Intake (liters): string (nullable = true)\n",
      " |-- Workout_Frequency (days/week): string (nullable = true)\n",
      " |-- Experience_Level: string (nullable = true)\n",
      " |-- BMI: string (nullable = true)\n",
      "\n"
     ]
    }
   ],
   "source": [
    "# schema datatypes\n",
    "df_pyspark.printSchema()"
   ]
  },
  {
   "cell_type": "markdown",
   "id": "53c4dfc4-8a54-45a4-bce2-b3f367f40199",
   "metadata": {},
   "source": [
    "### Why did all columns been set to string?\n",
    "that's because if not explicity set, Pyspark set all values to string values. we'll have to aet inferSchema Parameter to True"
   ]
  },
  {
   "cell_type": "code",
   "execution_count": 9,
   "id": "70a0e85d-6cb6-4021-ae71-5f4ddadf1c1e",
   "metadata": {},
   "outputs": [
    {
     "name": "stdout",
     "output_type": "stream",
     "text": [
      "root\n",
      " |-- Age: integer (nullable = true)\n",
      " |-- Gender: string (nullable = true)\n",
      " |-- Weight (kg): double (nullable = true)\n",
      " |-- Height (m): double (nullable = true)\n",
      " |-- Max_BPM: integer (nullable = true)\n",
      " |-- Avg_BPM: integer (nullable = true)\n",
      " |-- Resting_BPM: integer (nullable = true)\n",
      " |-- Session_Duration (hours): double (nullable = true)\n",
      " |-- Calories_Burned: double (nullable = true)\n",
      " |-- Workout_Type: string (nullable = true)\n",
      " |-- Fat_Percentage: double (nullable = true)\n",
      " |-- Water_Intake (liters): double (nullable = true)\n",
      " |-- Workout_Frequency (days/week): integer (nullable = true)\n",
      " |-- Experience_Level: integer (nullable = true)\n",
      " |-- BMI: double (nullable = true)\n",
      "\n"
     ]
    }
   ],
   "source": [
    "df_pyspark = spark.read.option('header', 'true').csv(\n",
    "    'data/gym_members_exercise_tracking.csv', inferSchema=True)\n",
    "\n",
    "df_pyspark.printSchema()"
   ]
  },
  {
   "cell_type": "markdown",
   "id": "c8791e38-f105-41d8-af0c-57e7a5281695",
   "metadata": {},
   "source": [
    "## Part 2: Selecting & Indexing Columns"
   ]
  },
  {
   "cell_type": "markdown",
   "id": "0de624af-1c87-4ad8-a3f1-eccfb65e3b8c",
   "metadata": {},
   "source": [
    "select a single column"
   ]
  },
  {
   "cell_type": "code",
   "execution_count": 10,
   "id": "b8a89bee-c804-4a3c-8739-5a7bd54dbf83",
   "metadata": {},
   "outputs": [
    {
     "name": "stdout",
     "output_type": "stream",
     "text": [
      "+------+\n",
      "|Gender|\n",
      "+------+\n",
      "|  Male|\n",
      "|Female|\n",
      "|Female|\n",
      "+------+\n",
      "only showing top 3 rows\n",
      "\n"
     ]
    }
   ],
   "source": [
    "df_pyspark.select('Gender').show(3)"
   ]
  },
  {
   "cell_type": "markdown",
   "id": "0340fb4d-8cfb-4ada-b64a-92543526bba6",
   "metadata": {},
   "source": [
    "select multiply columns"
   ]
  },
  {
   "cell_type": "code",
   "execution_count": 11,
   "id": "ab115343-2f20-40c5-99ca-5a2d4114554b",
   "metadata": {},
   "outputs": [
    {
     "name": "stdout",
     "output_type": "stream",
     "text": [
      "+------+---+\n",
      "|Gender|Age|\n",
      "+------+---+\n",
      "|  Male| 56|\n",
      "|Female| 46|\n",
      "|Female| 32|\n",
      "+------+---+\n",
      "only showing top 3 rows\n",
      "\n"
     ]
    }
   ],
   "source": [
    "df_pyspark.select(['Gender','Age']).show(3)"
   ]
  },
  {
   "cell_type": "markdown",
   "id": "4476d7ed-80b7-4424-97d0-0aca51bd5cb8",
   "metadata": {},
   "source": [
    "## Part 3: Describe Dataframe"
   ]
  },
  {
   "cell_type": "code",
   "execution_count": 30,
   "id": "8c10afe1-f8fd-4a21-b46a-7bb6465c0105",
   "metadata": {},
   "outputs": [
    {
     "name": "stdout",
     "output_type": "stream",
     "text": [
      "+-------+-----------------+------+-----------------+------------------+------------------+------------------+------------------+------------------------+-----------------+------------+------------------+---------------------+-----------------------------+------------------+------------------+\n",
      "|summary|              Age|Gender|      Weight (kg)|        Height (m)|           Max_BPM|           Avg_BPM|       Resting_BPM|Session_Duration (hours)|  Calories_Burned|Workout_Type|    Fat_Percentage|Water_Intake (liters)|Workout_Frequency (days/week)|  Experience_Level|               BMI|\n",
      "+-------+-----------------+------+-----------------+------------------+------------------+------------------+------------------+------------------------+-----------------+------------+------------------+---------------------+-----------------------------+------------------+------------------+\n",
      "|  count|              973|   973|              973|               973|               973|               973|               973|                     973|              973|         973|               973|                  973|                          973|               973|               973|\n",
      "|   mean|38.68345323741007|  NULL|73.85467625899278|1.7225796505652604|179.88386433710176|143.76670092497432|62.223021582733814|       1.256423432682425|905.4224049331963|        NULL|24.976772867420344|   2.6266187050359706|           3.3216855087358685|1.8098663926002057|24.912127440904435|\n",
      "+-------+-----------------+------+-----------------+------------------+------------------+------------------+------------------+------------------------+-----------------+------------+------------------+---------------------+-----------------------------+------------------+------------------+\n",
      "only showing top 2 rows\n",
      "\n"
     ]
    }
   ],
   "source": [
    "df_pyspark.describe().show(2)"
   ]
  },
  {
   "cell_type": "markdown",
   "id": "7273ddf8-2c45-430a-9f58-db041a956110",
   "metadata": {},
   "source": [
    "## Part 4: Adding & Removing & Renaming Columns\n"
   ]
  },
  {
   "cell_type": "code",
   "execution_count": 13,
   "id": "8a021662-aa95-4ec6-b8eb-78d4c17facb6",
   "metadata": {},
   "outputs": [],
   "source": [
    "## Adding a binary column for is gender is a male \n",
    "df_pyspark = df_pyspark.withColumn('Is_Male',df_pyspark['Gender']=='Male')"
   ]
  },
  {
   "cell_type": "code",
   "execution_count": 29,
   "id": "92c62547-de3c-4c25-904b-43f15662b68f",
   "metadata": {},
   "outputs": [
    {
     "name": "stdout",
     "output_type": "stream",
     "text": [
      "+---+------+-----------+----------+-------+-------+-----------+------------------------+---------------+------------+--------------+---------------------+-----------------------------+----------------+----+\n",
      "|Age|Gender|Weight (kg)|Height (m)|Max_BPM|Avg_BPM|Resting_BPM|Session_Duration (hours)|Calories_Burned|Workout_Type|Fat_Percentage|Water_Intake (liters)|Workout_Frequency (days/week)|Experience_Level| BMI|\n",
      "+---+------+-----------+----------+-------+-------+-----------+------------------------+---------------+------------+--------------+---------------------+-----------------------------+----------------+----+\n",
      "| 56|  Male|       88.3|      1.71|    180|    157|         60|                    1.69|         1313.0|        Yoga|          12.6|                  3.5|                            4|               3|30.2|\n",
      "| 46|Female|       74.9|      1.53|    179|    151|         66|                     1.3|          883.0|        HIIT|          33.9|                  2.1|                            4|               2|32.0|\n",
      "+---+------+-----------+----------+-------+-------+-----------+------------------------+---------------+------------+--------------+---------------------+-----------------------------+----------------+----+\n",
      "only showing top 2 rows\n",
      "\n"
     ]
    }
   ],
   "source": [
    "df_pyspark.show(2)"
   ]
  },
  {
   "cell_type": "code",
   "execution_count": 15,
   "id": "c7a961e8-3588-4b88-8165-885862271725",
   "metadata": {},
   "outputs": [],
   "source": [
    "# Drop columns\n",
    "df_pyspark = df_pyspark.drop('Is_Male')"
   ]
  },
  {
   "cell_type": "code",
   "execution_count": 28,
   "id": "9ecaabc4-3ddb-4694-b5ae-41d9dc8c1e05",
   "metadata": {},
   "outputs": [
    {
     "name": "stdout",
     "output_type": "stream",
     "text": [
      "+---+------+-----------+----------+-------+-------+-----------+------------------------+---------------+------------+--------------+---------------------+-----------------------------+----------------+----+\n",
      "|Age|Gender|Weight (kg)|Height (m)|Max_BPM|Avg_BPM|Resting_BPM|Session_Duration (hours)|Calories_Burned|Workout_Type|Fat_Percentage|Water_Intake (liters)|Workout_Frequency (days/week)|Experience_Level| BMI|\n",
      "+---+------+-----------+----------+-------+-------+-----------+------------------------+---------------+------------+--------------+---------------------+-----------------------------+----------------+----+\n",
      "| 56|  Male|       88.3|      1.71|    180|    157|         60|                    1.69|         1313.0|        Yoga|          12.6|                  3.5|                            4|               3|30.2|\n",
      "| 46|Female|       74.9|      1.53|    179|    151|         66|                     1.3|          883.0|        HIIT|          33.9|                  2.1|                            4|               2|32.0|\n",
      "+---+------+-----------+----------+-------+-------+-----------+------------------------+---------------+------------+--------------+---------------------+-----------------------------+----------------+----+\n",
      "only showing top 2 rows\n",
      "\n"
     ]
    }
   ],
   "source": [
    "df_pyspark.show(2)"
   ]
  },
  {
   "cell_type": "code",
   "execution_count": 27,
   "id": "b1fd0449-dc1c-4c69-b9e8-b0b26f36b1fd",
   "metadata": {},
   "outputs": [
    {
     "name": "stdout",
     "output_type": "stream",
     "text": [
      "+-------+------+-----------+----------+-------+-------+-----------+------------------------+---------------+------------+--------------+---------------------+-----------------------------+----------------+----+\n",
      "|New_Age|Gender|Weight (kg)|Height (m)|Max_BPM|Avg_BPM|Resting_BPM|Session_Duration (hours)|Calories_Burned|Workout_Type|Fat_Percentage|Water_Intake (liters)|Workout_Frequency (days/week)|Experience_Level| BMI|\n",
      "+-------+------+-----------+----------+-------+-------+-----------+------------------------+---------------+------------+--------------+---------------------+-----------------------------+----------------+----+\n",
      "|     56|  Male|       88.3|      1.71|    180|    157|         60|                    1.69|         1313.0|        Yoga|          12.6|                  3.5|                            4|               3|30.2|\n",
      "|     46|Female|       74.9|      1.53|    179|    151|         66|                     1.3|          883.0|        HIIT|          33.9|                  2.1|                            4|               2|32.0|\n",
      "+-------+------+-----------+----------+-------+-------+-----------+------------------------+---------------+------------+--------------+---------------------+-----------------------------+----------------+----+\n",
      "only showing top 2 rows\n",
      "\n"
     ]
    }
   ],
   "source": [
    "## Rename  - we will rename the Age column\n",
    "df_pyspark.withColumnRenamed('Age', 'New_Age').show(2)"
   ]
  },
  {
   "cell_type": "markdown",
   "id": "1af7b473-5b23-46ca-b1be-199ed0eb8e8f",
   "metadata": {},
   "source": [
    "## Part 5: Dropping Null Rows\n"
   ]
  },
  {
   "cell_type": "code",
   "execution_count": 26,
   "id": "90413b73-6983-4b6c-a290-5271cea1e5a1",
   "metadata": {},
   "outputs": [
    {
     "name": "stdout",
     "output_type": "stream",
     "text": [
      "+---+------+-----------+----------+-------+-------+-----------+------------------------+---------------+------------+--------------+---------------------+-----------------------------+----------------+-----+\n",
      "|Age|Gender|Weight (kg)|Height (m)|Max_BPM|Avg_BPM|Resting_BPM|Session_Duration (hours)|Calories_Burned|Workout_Type|Fat_Percentage|Water_Intake (liters)|Workout_Frequency (days/week)|Experience_Level|  BMI|\n",
      "+---+------+-----------+----------+-------+-------+-----------+------------------------+---------------+------------+--------------+---------------------+-----------------------------+----------------+-----+\n",
      "| 56|  Male|       88.3|      1.71|    180|    157|         60|                    1.69|         1313.0|        Yoga|          12.6|                  3.5|                            4|               3| 30.2|\n",
      "| 46|Female|       74.9|      1.53|    179|    151|         66|                     1.3|          883.0|        HIIT|          33.9|                  2.1|                            4|               2| 32.0|\n",
      "| 32|Female|       68.1|      1.66|    167|    122|         54|                    1.11|          677.0|      Cardio|          33.4|                  2.3|                            4|               2|24.71|\n",
      "+---+------+-----------+----------+-------+-------+-----------+------------------------+---------------+------------+--------------+---------------------+-----------------------------+----------------+-----+\n",
      "only showing top 3 rows\n",
      "\n"
     ]
    }
   ],
   "source": [
    "df_pyspark.na.drop().show(3)"
   ]
  },
  {
   "cell_type": "markdown",
   "id": "632199d7-bdab-4c2f-ace7-2925f72d3e0a",
   "metadata": {},
   "source": [
    "There are a numer of way to drop Null rows:\n",
    "* Any - any row where there's at least 1 null value will be dropped.\n",
    "* All - drop a row only if all it's values are null."
   ]
  },
  {
   "cell_type": "code",
   "execution_count": 25,
   "id": "b6f787c7-8593-45b0-89ae-24bbb268cb76",
   "metadata": {},
   "outputs": [
    {
     "name": "stdout",
     "output_type": "stream",
     "text": [
      "+---+------+-----------+----------+-------+-------+-----------+------------------------+---------------+------------+--------------+---------------------+-----------------------------+----------------+-----+\n",
      "|Age|Gender|Weight (kg)|Height (m)|Max_BPM|Avg_BPM|Resting_BPM|Session_Duration (hours)|Calories_Burned|Workout_Type|Fat_Percentage|Water_Intake (liters)|Workout_Frequency (days/week)|Experience_Level|  BMI|\n",
      "+---+------+-----------+----------+-------+-------+-----------+------------------------+---------------+------------+--------------+---------------------+-----------------------------+----------------+-----+\n",
      "| 56|  Male|       88.3|      1.71|    180|    157|         60|                    1.69|         1313.0|        Yoga|          12.6|                  3.5|                            4|               3| 30.2|\n",
      "| 46|Female|       74.9|      1.53|    179|    151|         66|                     1.3|          883.0|        HIIT|          33.9|                  2.1|                            4|               2| 32.0|\n",
      "| 32|Female|       68.1|      1.66|    167|    122|         54|                    1.11|          677.0|      Cardio|          33.4|                  2.3|                            4|               2|24.71|\n",
      "+---+------+-----------+----------+-------+-------+-----------+------------------------+---------------+------------+--------------+---------------------+-----------------------------+----------------+-----+\n",
      "only showing top 3 rows\n",
      "\n"
     ]
    }
   ],
   "source": [
    "##1. any==how\n",
    "# df_pyspark.na.drop(how=\"all\").show()\n",
    "df_pyspark.na.drop(how=\"any\").show(3)"
   ]
  },
  {
   "cell_type": "code",
   "execution_count": 24,
   "id": "0c4d401b-7a43-41e3-be4a-aa8f6561845b",
   "metadata": {},
   "outputs": [
    {
     "name": "stdout",
     "output_type": "stream",
     "text": [
      "+---+------+-----------+----------+-------+-------+-----------+------------------------+---------------+------------+--------------+---------------------+-----------------------------+----------------+-----+\n",
      "|Age|Gender|Weight (kg)|Height (m)|Max_BPM|Avg_BPM|Resting_BPM|Session_Duration (hours)|Calories_Burned|Workout_Type|Fat_Percentage|Water_Intake (liters)|Workout_Frequency (days/week)|Experience_Level|  BMI|\n",
      "+---+------+-----------+----------+-------+-------+-----------+------------------------+---------------+------------+--------------+---------------------+-----------------------------+----------------+-----+\n",
      "| 56|  Male|       88.3|      1.71|    180|    157|         60|                    1.69|         1313.0|        Yoga|          12.6|                  3.5|                            4|               3| 30.2|\n",
      "| 46|Female|       74.9|      1.53|    179|    151|         66|                     1.3|          883.0|        HIIT|          33.9|                  2.1|                            4|               2| 32.0|\n",
      "| 32|Female|       68.1|      1.66|    167|    122|         54|                    1.11|          677.0|      Cardio|          33.4|                  2.3|                            4|               2|24.71|\n",
      "+---+------+-----------+----------+-------+-------+-----------+------------------------+---------------+------------+--------------+---------------------+-----------------------------+----------------+-----+\n",
      "only showing top 3 rows\n",
      "\n"
     ]
    }
   ],
   "source": [
    "# at least 2 non-null values should be present\n",
    "df_pyspark.na.drop(how=\"any\", thresh=2).show(3)"
   ]
  },
  {
   "cell_type": "code",
   "execution_count": 32,
   "id": "6e4ac4dd-adb3-4463-af81-5908ab9a988f",
   "metadata": {},
   "outputs": [
    {
     "name": "stdout",
     "output_type": "stream",
     "text": [
      "+---+------+-----------+----------+-------+-------+-----------+------------------------+---------------+------------+--------------+---------------------+-----------------------------+----------------+-----+\n",
      "|Age|Gender|Weight (kg)|Height (m)|Max_BPM|Avg_BPM|Resting_BPM|Session_Duration (hours)|Calories_Burned|Workout_Type|Fat_Percentage|Water_Intake (liters)|Workout_Frequency (days/week)|Experience_Level|  BMI|\n",
      "+---+------+-----------+----------+-------+-------+-----------+------------------------+---------------+------------+--------------+---------------------+-----------------------------+----------------+-----+\n",
      "| 56|  Male|       88.3|      1.71|    180|    157|         60|                    1.69|         1313.0|        Yoga|          12.6|                  3.5|                            4|               3| 30.2|\n",
      "| 46|Female|       74.9|      1.53|    179|    151|         66|                     1.3|          883.0|        HIIT|          33.9|                  2.1|                            4|               2| 32.0|\n",
      "| 32|Female|       68.1|      1.66|    167|    122|         54|                    1.11|          677.0|      Cardio|          33.4|                  2.3|                            4|               2|24.71|\n",
      "+---+------+-----------+----------+-------+-------+-----------+------------------------+---------------+------------+--------------+---------------------+-----------------------------+----------------+-----+\n",
      "only showing top 3 rows\n",
      "\n"
     ]
    }
   ],
   "source": [
    "# subset - drop only null values from a specific  column \n",
    "df_pyspark.na.drop(how=\"any\", subset=['Gender']).show(3)"
   ]
  },
  {
   "cell_type": "markdown",
   "id": "ca97bc39-196d-457d-bf55-6b741b206de2",
   "metadata": {},
   "source": [
    "## Part 6: Fill Null Vlaues\n"
   ]
  },
  {
   "cell_type": "code",
   "execution_count": 37,
   "id": "b8aa6faa-3c30-44cf-886b-a55c607575d8",
   "metadata": {},
   "outputs": [
    {
     "name": "stdout",
     "output_type": "stream",
     "text": [
      "+---+------+-----------+----------+-------+-------+-----------+------------------------+---------------+------------+--------------+---------------------+-----------------------------+----------------+----+\n",
      "|Age|Gender|Weight (kg)|Height (m)|Max_BPM|Avg_BPM|Resting_BPM|Session_Duration (hours)|Calories_Burned|Workout_Type|Fat_Percentage|Water_Intake (liters)|Workout_Frequency (days/week)|Experience_Level| BMI|\n",
      "+---+------+-----------+----------+-------+-------+-----------+------------------------+---------------+------------+--------------+---------------------+-----------------------------+----------------+----+\n",
      "| 56|  Male|       88.3|      1.71|    180|    157|         60|                    1.69|         1313.0|        Yoga|          12.6|                  3.5|                            4|               3|30.2|\n",
      "| 46|Female|       74.9|      1.53|    179|    151|         66|                     1.3|          883.0|        HIIT|          33.9|                  2.1|                            4|               2|32.0|\n",
      "+---+------+-----------+----------+-------+-------+-----------+------------------------+---------------+------------+--------------+---------------------+-----------------------------+----------------+----+\n",
      "only showing top 2 rows\n",
      "\n"
     ]
    }
   ],
   "source": [
    "## Filling missing values with the value string: Missing Values\n",
    "df_pyspark.na.fill('Missing Values').show(2)"
   ]
  },
  {
   "cell_type": "code",
   "execution_count": 38,
   "id": "702e834b-a014-47f5-8b5a-f00cff9a1bf8",
   "metadata": {},
   "outputs": [
    {
     "name": "stdout",
     "output_type": "stream",
     "text": [
      "+---+------+-----------+----------+-------+-------+-----------+------------------------+---------------+------------+--------------+---------------------+-----------------------------+----------------+----+\n",
      "|Age|Gender|Weight (kg)|Height (m)|Max_BPM|Avg_BPM|Resting_BPM|Session_Duration (hours)|Calories_Burned|Workout_Type|Fat_Percentage|Water_Intake (liters)|Workout_Frequency (days/week)|Experience_Level| BMI|\n",
      "+---+------+-----------+----------+-------+-------+-----------+------------------------+---------------+------------+--------------+---------------------+-----------------------------+----------------+----+\n",
      "| 56|  Male|       88.3|      1.71|    180|    157|         60|                    1.69|         1313.0|        Yoga|          12.6|                  3.5|                            4|               3|30.2|\n",
      "| 46|Female|       74.9|      1.53|    179|    151|         66|                     1.3|          883.0|        HIIT|          33.9|                  2.1|                            4|               2|32.0|\n",
      "+---+------+-----------+----------+-------+-------+-----------+------------------------+---------------+------------+--------------+---------------------+-----------------------------+----------------+----+\n",
      "only showing top 2 rows\n",
      "\n"
     ]
    }
   ],
   "source": [
    "## Filling missing values with the value string: Missing Values in a specific column\n",
    "df_pyspark.na.fill('Missing Values',['Age']).show(2)"
   ]
  },
  {
   "cell_type": "code",
   "execution_count": 42,
   "id": "9e0d6102-7718-467d-ba22-dc9c5e45fcb3",
   "metadata": {},
   "outputs": [],
   "source": [
    "## Filling with Mean value for numeric column - imputer\n",
    "from pyspark.ml.feature import Imputer\n",
    "imputer = Imputer(\n",
    "    inputCols = ['Age', 'BMI'],\n",
    "    outputCols = [\"{}_imputed\".format(c) for c in ['Age', 'BMI']]\n",
    "                  ).setStrategy(\"mean\")"
   ]
  },
  {
   "cell_type": "code",
   "execution_count": 44,
   "id": "d565f1cf-4fb9-4689-9927-deaee9b6bbc7",
   "metadata": {},
   "outputs": [
    {
     "name": "stdout",
     "output_type": "stream",
     "text": [
      "+---+------+-----------+----------+-------+-------+-----------+------------------------+---------------+------------+--------------+---------------------+-----------------------------+----------------+-----+-----------+-----------+\n",
      "|Age|Gender|Weight (kg)|Height (m)|Max_BPM|Avg_BPM|Resting_BPM|Session_Duration (hours)|Calories_Burned|Workout_Type|Fat_Percentage|Water_Intake (liters)|Workout_Frequency (days/week)|Experience_Level|  BMI|Age_imputed|BMI_imputed|\n",
      "+---+------+-----------+----------+-------+-------+-----------+------------------------+---------------+------------+--------------+---------------------+-----------------------------+----------------+-----+-----------+-----------+\n",
      "| 56|  Male|       88.3|      1.71|    180|    157|         60|                    1.69|         1313.0|        Yoga|          12.6|                  3.5|                            4|               3| 30.2|         56|       30.2|\n",
      "| 46|Female|       74.9|      1.53|    179|    151|         66|                     1.3|          883.0|        HIIT|          33.9|                  2.1|                            4|               2| 32.0|         46|       32.0|\n",
      "| 32|Female|       68.1|      1.66|    167|    122|         54|                    1.11|          677.0|      Cardio|          33.4|                  2.3|                            4|               2|24.71|         32|      24.71|\n",
      "+---+------+-----------+----------+-------+-------+-----------+------------------------+---------------+------------+--------------+---------------------+-----------------------------+----------------+-----+-----------+-----------+\n",
      "only showing top 3 rows\n",
      "\n"
     ]
    }
   ],
   "source": [
    "## add the imputation cols to df\n",
    "imputer.fit(df_pyspark).transform(df_pyspark).show(3)"
   ]
  },
  {
   "cell_type": "code",
   "execution_count": null,
   "id": "0f2ea31f-4137-4770-b663-defc756632d1",
   "metadata": {},
   "outputs": [],
   "source": []
  }
 ],
 "metadata": {
  "kernelspec": {
   "display_name": "Python 3 (ipykernel)",
   "language": "python",
   "name": "python3"
  },
  "language_info": {
   "codemirror_mode": {
    "name": "ipython",
    "version": 3
   },
   "file_extension": ".py",
   "mimetype": "text/x-python",
   "name": "python",
   "nbconvert_exporter": "python",
   "pygments_lexer": "ipython3",
   "version": "3.11.10"
  }
 },
 "nbformat": 4,
 "nbformat_minor": 5
}
